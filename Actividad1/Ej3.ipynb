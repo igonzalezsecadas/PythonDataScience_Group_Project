{
 "cells": [
  {
   "cell_type": "code",
   "execution_count": 2,
   "id": "80b633ed-9c73-4d67-8929-24373eabfdca",
   "metadata": {},
   "outputs": [
    {
     "name": "stdout",
     "output_type": "stream",
     "text": [
      "[['Facebook', 3100, True, 2004], ['Youtube', 2530, False, 2005], ['Whatsapp', 2000, True, 2009], ['Instagram', 2000, True, 2010], ['TikTok', 1580, False, 2035]]\n"
     ]
    }
   ],
   "source": [
    "import pandas as pd\n",
    "import matplotlib.pyplot as plt\n",
    "\n",
    "fbk=['Facebook',3100,True]\n",
    "you=['Youtube',2530,False]\n",
    "what=['Whatsapp',2000,True]\n",
    "insta=['Instagram',2000,True]\n",
    "tik=['TikTok',1580,False]\n",
    "\n",
    "rss = [fbk,you,what,insta,tik]\n",
    "\n",
    "fbk.append(2004)\n",
    "you.append(2005)\n",
    "what.append(2009)\n",
    "insta.append(2010)\n",
    "tik.append(2035)\n",
    "\n",
    "print(rss)"
   ]
  },
  {
   "cell_type": "code",
   "execution_count": 3,
   "id": "1e90d526-58eb-4d2f-8ea0-d61ebdb0a782",
   "metadata": {},
   "outputs": [
    {
     "name": "stdout",
     "output_type": "stream",
     "text": [
      "[['Facebook', 3100, True, 2004], ['Youtube', 2530, False, 2005], ['Whatsapp', 2000, True, 2009], ['Instagram', 2000, True, 2010], ['TikTok', 1580, False, 2016]]\n"
     ]
    }
   ],
   "source": [
    "tik.remove(2035)\n",
    "tik.append(2016)\n",
    "\n",
    "print(rss)"
   ]
  },
  {
   "cell_type": "code",
   "execution_count": null,
   "id": "09a90a5e-4147-4ce2-8995-23ce1c070338",
   "metadata": {},
   "outputs": [],
   "source": [
    "df = pd.DataFrame(rss, columns='"
   ]
  }
 ],
 "metadata": {
  "kernelspec": {
   "display_name": "Python [conda env:base] *",
   "language": "python",
   "name": "conda-base-py"
  },
  "language_info": {
   "codemirror_mode": {
    "name": "ipython",
    "version": 3
   },
   "file_extension": ".py",
   "mimetype": "text/x-python",
   "name": "python",
   "nbconvert_exporter": "python",
   "pygments_lexer": "ipython3",
   "version": "3.13.5"
  }
 },
 "nbformat": 4,
 "nbformat_minor": 5
}
