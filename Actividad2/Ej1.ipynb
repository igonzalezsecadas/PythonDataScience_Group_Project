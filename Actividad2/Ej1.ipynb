{
 "cells": [
  {
   "cell_type": "code",
   "execution_count": 9,
   "id": "52839f3c-8b4e-4a28-98c4-86e110154cd2",
   "metadata": {},
   "outputs": [
    {
     "name": "stdout",
     "output_type": "stream",
     "text": [
      "Suma total:  55\n",
      "Promedio:  5.5\n",
      "Numeros max:  10\n",
      "Numeros min:  1\n",
      "Numeros al cuadrado:  [  1   4   9  16  25  36  49  64  81 100]\n",
      "Pares:  [ 2  4  6  8 10 12 14 16 18 20]\n",
      "Suma de arrays:  [ 3  6  9 12 15 18 21 24 27 30]\n",
      "Media de los multiplos de 3 hasta el 30:  16.5\n"
     ]
    }
   ],
   "source": [
    "import numpy as np\n",
    "\n",
    "numeros = np.arange(1,11)\n",
    "print(\"Suma total: \", np.sum(numeros))\n",
    "print(\"Promedio: \", np.mean(numeros))\n",
    "print(\"Numeros max: \", np.max(numeros))\n",
    "print(\"Numeros min: \", np.min(numeros))\n",
    "\n",
    "\n",
    "cuadrados = numeros ** 2\n",
    "print(\"Numeros al cuadrado: \", cuadrados)\n",
    "\n",
    "pares = np.arange(2,21,2)\n",
    "print(\"Pares: \", pares)\n",
    "\n",
    "suma_arrays = numeros + pares\n",
    "print(\"Suma de arrays: \", suma_arrays)\n",
    "\n",
    "array3 = np.arange(3,31,3)\n",
    "print(\"Media de los multiplos de 3 hasta el 30: \", np.mean(array3))"
   ]
  },
  {
   "cell_type": "code",
   "execution_count": null,
   "id": "f7613301-8652-486a-8026-cd071811c3b0",
   "metadata": {},
   "outputs": [],
   "source": []
  }
 ],
 "metadata": {
  "kernelspec": {
   "display_name": "Python [conda env:base] *",
   "language": "python",
   "name": "conda-base-py"
  },
  "language_info": {
   "codemirror_mode": {
    "name": "ipython",
    "version": 3
   },
   "file_extension": ".py",
   "mimetype": "text/x-python",
   "name": "python",
   "nbconvert_exporter": "python",
   "pygments_lexer": "ipython3",
   "version": "3.13.5"
  }
 },
 "nbformat": 4,
 "nbformat_minor": 5
}
