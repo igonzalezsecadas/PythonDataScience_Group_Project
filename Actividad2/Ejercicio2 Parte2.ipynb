{
 "cells": [
  {
   "cell_type": "code",
   "execution_count": 1,
   "id": "e15b4bea-f3aa-4f37-b0d8-0a2a54a78ed9",
   "metadata": {},
   "outputs": [],
   "source": [
    "import pandas as pd"
   ]
  },
  {
   "cell_type": "code",
   "execution_count": null,
   "id": "f9309bd5-ee8c-4630-a950-d168e239f789",
   "metadata": {},
   "outputs": [],
   "source": [
    "#Una vez importado pandas pongo datos de 5 personas y creo el dataframe que lo llamaré df"
   ]
  },
  {
   "cell_type": "code",
   "execution_count": 4,
   "id": "1c4575fd-9d81-4dc3-a268-4dc22fd51457",
   "metadata": {},
   "outputs": [],
   "source": [
    "persona1 = ['Diego', 24,'Santander']"
   ]
  },
  {
   "cell_type": "code",
   "execution_count": 5,
   "id": "e07d5d00-934d-4494-80c0-9f44c82ef3c0",
   "metadata": {},
   "outputs": [],
   "source": [
    "persona2 = ['Pablo', 20,'Guarnizo']"
   ]
  },
  {
   "cell_type": "code",
   "execution_count": 6,
   "id": "633a1984-785c-4caf-9cfd-ecbf934732e0",
   "metadata": {},
   "outputs": [],
   "source": [
    "persona3 = ['Juan', 17, 'Liencres']"
   ]
  },
  {
   "cell_type": "code",
   "execution_count": 7,
   "id": "b3e78a7c-dea7-416e-b7cc-ae3570871037",
   "metadata": {},
   "outputs": [],
   "source": [
    "persona4= ['Fidel', 28,'Miengo']"
   ]
  },
  {
   "cell_type": "code",
   "execution_count": 8,
   "id": "2e025403-b03c-48c6-9fef-e09e247d9d78",
   "metadata": {},
   "outputs": [],
   "source": [
    "persona5= ['Pedro', 33, 'Maliaño']"
   ]
  },
  {
   "cell_type": "code",
   "execution_count": 10,
   "id": "de2275f1-03de-4379-8427-fd69745030e6",
   "metadata": {},
   "outputs": [],
   "source": [
    "personas = [persona1,persona2,persona3,persona4,persona5]"
   ]
  },
  {
   "cell_type": "code",
   "execution_count": 37,
   "id": "27bbe007-44a3-45b8-bb29-55ad7ddc3ff7",
   "metadata": {},
   "outputs": [],
   "source": [
    "df=pd.DataFrame(personas, columns = ['Nombre', 'Edad', 'Localidad'])"
   ]
  },
  {
   "cell_type": "code",
   "execution_count": 39,
   "id": "0ba1f2c5-dd7f-4cc8-9825-9cd4ed5a3c78",
   "metadata": {},
   "outputs": [
    {
     "data": {
      "text/html": [
       "<div>\n",
       "<style scoped>\n",
       "    .dataframe tbody tr th:only-of-type {\n",
       "        vertical-align: middle;\n",
       "    }\n",
       "\n",
       "    .dataframe tbody tr th {\n",
       "        vertical-align: top;\n",
       "    }\n",
       "\n",
       "    .dataframe thead th {\n",
       "        text-align: right;\n",
       "    }\n",
       "</style>\n",
       "<table border=\"1\" class=\"dataframe\">\n",
       "  <thead>\n",
       "    <tr style=\"text-align: right;\">\n",
       "      <th></th>\n",
       "      <th>Nombre</th>\n",
       "      <th>Edad</th>\n",
       "      <th>Localidad</th>\n",
       "    </tr>\n",
       "  </thead>\n",
       "  <tbody>\n",
       "    <tr>\n",
       "      <th>0</th>\n",
       "      <td>Diego</td>\n",
       "      <td>24</td>\n",
       "      <td>Santander</td>\n",
       "    </tr>\n",
       "    <tr>\n",
       "      <th>1</th>\n",
       "      <td>Pablo</td>\n",
       "      <td>20</td>\n",
       "      <td>Guarnizo</td>\n",
       "    </tr>\n",
       "    <tr>\n",
       "      <th>2</th>\n",
       "      <td>Juan</td>\n",
       "      <td>17</td>\n",
       "      <td>Liencres</td>\n",
       "    </tr>\n",
       "    <tr>\n",
       "      <th>3</th>\n",
       "      <td>Fidel</td>\n",
       "      <td>28</td>\n",
       "      <td>Miengo</td>\n",
       "    </tr>\n",
       "    <tr>\n",
       "      <th>4</th>\n",
       "      <td>Pedro</td>\n",
       "      <td>33</td>\n",
       "      <td>Maliaño</td>\n",
       "    </tr>\n",
       "  </tbody>\n",
       "</table>\n",
       "</div>"
      ],
      "text/plain": [
       "  Nombre  Edad  Localidad\n",
       "0  Diego    24  Santander\n",
       "1  Pablo    20   Guarnizo\n",
       "2   Juan    17   Liencres\n",
       "3  Fidel    28     Miengo\n",
       "4  Pedro    33    Maliaño"
      ]
     },
     "execution_count": 39,
     "metadata": {},
     "output_type": "execute_result"
    }
   ],
   "source": [
    "df"
   ]
  },
  {
   "cell_type": "code",
   "execution_count": null,
   "id": "171d9d84-fa27-46a3-ad0a-9e10fa0ab763",
   "metadata": {},
   "outputs": [],
   "source": [
    "Selecciono personas para ver que funciona correctamente."
   ]
  },
  {
   "cell_type": "code",
   "execution_count": 17,
   "id": "cdb8f8fd-2dd4-4449-ad9f-a6ada3ad7c2a",
   "metadata": {},
   "outputs": [
    {
     "data": {
      "text/plain": [
       "['Juan', 17, 'Liencres']"
      ]
     },
     "execution_count": 17,
     "metadata": {},
     "output_type": "execute_result"
    }
   ],
   "source": [
    "personas[2]"
   ]
  },
  {
   "cell_type": "code",
   "execution_count": 13,
   "id": "72b6199f-0981-43bc-b0c2-ecc0d4043486",
   "metadata": {},
   "outputs": [
    {
     "data": {
      "text/plain": [
       "[['Juan', 17, 'Liencres'], ['Fidel', 28, 'Miengo']]"
      ]
     },
     "execution_count": 13,
     "metadata": {},
     "output_type": "execute_result"
    }
   ],
   "source": [
    "personas[2:4]"
   ]
  },
  {
   "cell_type": "code",
   "execution_count": null,
   "id": "49a9d8f7-fb0b-4fb9-bddf-f69585b235f4",
   "metadata": {},
   "outputs": [],
   "source": [
    "#Para seleccionar los datos de una fila lo haremos mediante df.loc, además de que lo especificaremos más poniendo la columna nombre"
   ]
  },
  {
   "cell_type": "code",
   "execution_count": 36,
   "id": "7e1417ea-63e8-4c64-891c-2dc314e75276",
   "metadata": {},
   "outputs": [],
   "source": [
    "tercerafila = df.loc[2, 'Nombre']\n"
   ]
  },
  {
   "cell_type": "code",
   "execution_count": 26,
   "id": "be37a49d-4712-4bac-9a46-684b8ac79f85",
   "metadata": {},
   "outputs": [
    {
     "data": {
      "text/plain": [
       "'Juan'"
      ]
     },
     "execution_count": 26,
     "metadata": {},
     "output_type": "execute_result"
    }
   ],
   "source": [
    "tercerafila"
   ]
  },
  {
   "cell_type": "code",
   "execution_count": 27,
   "id": "97ef35b5-a4c8-4099-b52f-b5bac27dbfa7",
   "metadata": {},
   "outputs": [],
   "source": [
    "colNombre = df['Nombre']"
   ]
  },
  {
   "cell_type": "code",
   "execution_count": 28,
   "id": "5bfbcc35-547e-40c1-94ef-ba66c197f961",
   "metadata": {},
   "outputs": [
    {
     "name": "stdout",
     "output_type": "stream",
     "text": [
      "0    Diego\n",
      "1    Pablo\n",
      "2     Juan\n",
      "3    Fidel\n",
      "4    Pedro\n",
      "Name: Nombre, dtype: object\n"
     ]
    }
   ],
   "source": [
    "print (colNombre)"
   ]
  },
  {
   "cell_type": "code",
   "execution_count": 29,
   "id": "27eb2d96-6400-4586-8e9f-f69a23180aa0",
   "metadata": {},
   "outputs": [],
   "source": [
    "colEdad = df['Edad']"
   ]
  },
  {
   "cell_type": "code",
   "execution_count": 30,
   "id": "134f6a19-1520-43cd-ab1f-566c1cefc7e6",
   "metadata": {},
   "outputs": [
    {
     "name": "stdout",
     "output_type": "stream",
     "text": [
      "0    24\n",
      "1    20\n",
      "2    17\n",
      "3    28\n",
      "4    33\n",
      "Name: Edad, dtype: int64\n"
     ]
    }
   ],
   "source": [
    "print (colEdad)"
   ]
  },
  {
   "cell_type": "code",
   "execution_count": null,
   "id": "10793f8a-3257-4798-9209-2f9ee5a4108f",
   "metadata": {},
   "outputs": [],
   "source": [
    "#Utilizando df.loc[int] nos saldrá todos los datos de aquella fila utilizando el índice."
   ]
  },
  {
   "cell_type": "code",
   "execution_count": 31,
   "id": "d01b57ea-d4ca-414f-ae9f-9cb3974af86e",
   "metadata": {},
   "outputs": [],
   "source": [
    "segundaFila = df.loc[1]"
   ]
  },
  {
   "cell_type": "code",
   "execution_count": 32,
   "id": "0d1f09b7-d4dd-4104-ba10-9fee3804c862",
   "metadata": {},
   "outputs": [
    {
     "name": "stdout",
     "output_type": "stream",
     "text": [
      "Nombre          Pablo\n",
      "Edad               20\n",
      "Localidad    Guarnizo\n",
      "Name: 1, dtype: object\n"
     ]
    }
   ],
   "source": [
    "print (segundaFila)"
   ]
  },
  {
   "cell_type": "code",
   "execution_count": null,
   "id": "8c983bb4-8be6-4e38-b161-0d7949f72c0a",
   "metadata": {},
   "outputs": [],
   "source": [
    "#Para filtrar un filtro y solo mostrar las filas que cumplen dichas condiciones deberemos de poner df[df... ya que si ponemos un solo df para filtrarlo nos creará un filtro de booleano"
   ]
  },
  {
   "cell_type": "code",
   "execution_count": 44,
   "id": "d882edb9-4bbb-4d64-8cd1-51f24277ca42",
   "metadata": {},
   "outputs": [
    {
     "data": {
      "text/html": [
       "<div>\n",
       "<style scoped>\n",
       "    .dataframe tbody tr th:only-of-type {\n",
       "        vertical-align: middle;\n",
       "    }\n",
       "\n",
       "    .dataframe tbody tr th {\n",
       "        vertical-align: top;\n",
       "    }\n",
       "\n",
       "    .dataframe thead th {\n",
       "        text-align: right;\n",
       "    }\n",
       "</style>\n",
       "<table border=\"1\" class=\"dataframe\">\n",
       "  <thead>\n",
       "    <tr style=\"text-align: right;\">\n",
       "      <th></th>\n",
       "      <th>Nombre</th>\n",
       "      <th>Edad</th>\n",
       "      <th>Localidad</th>\n",
       "    </tr>\n",
       "  </thead>\n",
       "  <tbody>\n",
       "    <tr>\n",
       "      <th>3</th>\n",
       "      <td>Fidel</td>\n",
       "      <td>28</td>\n",
       "      <td>Miengo</td>\n",
       "    </tr>\n",
       "    <tr>\n",
       "      <th>4</th>\n",
       "      <td>Pedro</td>\n",
       "      <td>33</td>\n",
       "      <td>Maliaño</td>\n",
       "    </tr>\n",
       "  </tbody>\n",
       "</table>\n",
       "</div>"
      ],
      "text/plain": [
       "  Nombre  Edad Localidad\n",
       "3  Fidel    28    Miengo\n",
       "4  Pedro    33   Maliaño"
      ]
     },
     "execution_count": 44,
     "metadata": {},
     "output_type": "execute_result"
    }
   ],
   "source": [
    "df[df['Edad']>25]"
   ]
  }
 ],
 "metadata": {
  "kernelspec": {
   "display_name": "Python [conda env:base] *",
   "language": "python",
   "name": "conda-base-py"
  },
  "language_info": {
   "codemirror_mode": {
    "name": "ipython",
    "version": 3
   },
   "file_extension": ".py",
   "mimetype": "text/x-python",
   "name": "python",
   "nbconvert_exporter": "python",
   "pygments_lexer": "ipython3",
   "version": "3.13.5"
  }
 },
 "nbformat": 4,
 "nbformat_minor": 5
}
