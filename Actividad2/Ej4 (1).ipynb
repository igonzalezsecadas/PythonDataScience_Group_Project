{
 "cells": [
  {
   "cell_type": "code",
   "execution_count": 1,
   "id": "98b4adb9-e88f-4b5c-905d-79ae50cd7e54",
   "metadata": {},
   "outputs": [],
   "source": [
    "#importo librerías"
   ]
  },
  {
   "cell_type": "code",
   "execution_count": 2,
   "id": "25ae1665-4f6a-4801-8ef2-e8ef4afb0d8e",
   "metadata": {},
   "outputs": [],
   "source": [
    "import numpy as np"
   ]
  },
  {
   "cell_type": "code",
   "execution_count": 3,
   "id": "73a029f2-bcdc-4bcb-aa4c-1154ed348382",
   "metadata": {},
   "outputs": [],
   "source": [
    "import pandas as pd"
   ]
  },
  {
   "cell_type": "code",
   "execution_count": 4,
   "id": "bae63e7d-6fa4-40a2-bbb9-d907fbc5ae9c",
   "metadata": {},
   "outputs": [],
   "source": [
    "import matplotlib.pyplot as plt"
   ]
  },
  {
   "cell_type": "code",
   "execution_count": 7,
   "id": "1f752342-b945-46d0-a729-1f86b3f4ba5a",
   "metadata": {},
   "outputs": [],
   "source": [
    "#creo rango de horas con la función date_range q se encarga de generar h auromáticas con la frecuencia que indique, en este casp h"
   ]
  },
  {
   "cell_type": "code",
   "execution_count": 6,
   "id": "1633bc42-2ae2-414e-a43d-eff83a4278d5",
   "metadata": {},
   "outputs": [],
   "source": [
    "horas = pd.date_range(start='00:00', end='23:00', freq='H')"
   ]
  },
  {
   "cell_type": "code",
   "execution_count": 8,
   "id": "a5b4db2d-ee39-4542-af8b-ba2e025670a3",
   "metadata": {},
   "outputs": [],
   "source": [
    "#simular datos"
   ]
  },
  {
   "cell_type": "code",
   "execution_count": 17,
   "id": "428a5903-deb1-48cf-882e-ee196b078ff6",
   "metadata": {},
   "outputs": [],
   "source": [
    "luminosidad = np.random.uniform(0, 1000, size=24) #con numpy genero 24 valores aleatorios entre 0 y 1000"
   ]
  },
  {
   "cell_type": "code",
   "execution_count": 14,
   "id": "9ef01cbc-191c-4663-b43a-ae1b2786c017",
   "metadata": {},
   "outputs": [],
   "source": [
    "movimiento = np.random.choice([True, False], size=24)  #con numpy hago que escoga aleatoriamente el valor del booleano q determina si hay movimiento"
   ]
  },
  {
   "cell_type": "code",
   "execution_count": 18,
   "id": "df2a927a-475d-4df1-839e-bddd007837f2",
   "metadata": {},
   "outputs": [],
   "source": [
    "consumo = np.random.uniform(100, 500, size=24)  #con numpy genero 24 valores aleatorios q determinan el consumo"
   ]
  },
  {
   "cell_type": "code",
   "execution_count": 19,
   "id": "233e91ca-1b7f-4ef9-9546-c262f10d3ac7",
   "metadata": {},
   "outputs": [],
   "source": [
    "#creo el dataframe"
   ]
  },
  {
   "cell_type": "code",
   "execution_count": 20,
   "id": "9fc7eaa9-2aa1-46ef-b920-724e09d82117",
   "metadata": {},
   "outputs": [],
   "source": [
    "df = pd.DataFrame({\n",
    "    'Hora': horas,\n",
    "    'Luminosidad (lux)': luminosidad,\n",
    "    'Movimiento': movimiento,\n",
    "    'Consumo eléctrico (W)': consumo\n",
    "})"
   ]
  },
  {
   "cell_type": "code",
   "execution_count": 21,
   "id": "4ff09ba2-2d33-4d26-ac8a-43513fbf2020",
   "metadata": {},
   "outputs": [
    {
     "name": "stdout",
     "output_type": "stream",
     "text": [
      "                  Hora  Luminosidad (lux)  Movimiento  Consumo eléctrico (W)\n",
      "0  2025-10-03 00:00:00         147.816718        True             290.544440\n",
      "1  2025-10-03 01:00:00         298.611860       False             285.597347\n",
      "2  2025-10-03 02:00:00         881.996679        True             151.609664\n",
      "3  2025-10-03 03:00:00          29.943634        True             204.258708\n",
      "4  2025-10-03 04:00:00         471.163975       False             345.892695\n",
      "5  2025-10-03 05:00:00         883.769249        True             146.498008\n",
      "6  2025-10-03 06:00:00         340.516680        True             270.081925\n",
      "7  2025-10-03 07:00:00         439.218653       False             308.358742\n",
      "8  2025-10-03 08:00:00         909.673534       False             475.397976\n",
      "9  2025-10-03 09:00:00         759.283823        True             331.707305\n",
      "10 2025-10-03 10:00:00         435.280774        True             398.490873\n",
      "11 2025-10-03 11:00:00         495.660417       False             185.809794\n",
      "12 2025-10-03 12:00:00         995.070898        True             293.062380\n",
      "13 2025-10-03 13:00:00         936.371996        True             181.623436\n",
      "14 2025-10-03 14:00:00          64.825784        True             442.445199\n",
      "15 2025-10-03 15:00:00         253.728482        True             302.061889\n",
      "16 2025-10-03 16:00:00         841.324018        True             339.036095\n",
      "17 2025-10-03 17:00:00         539.697935        True             322.670278\n",
      "18 2025-10-03 18:00:00         313.985870       False             239.150050\n",
      "19 2025-10-03 19:00:00         361.123617       False             234.234464\n",
      "20 2025-10-03 20:00:00         884.156150       False             300.615518\n",
      "21 2025-10-03 21:00:00         746.392425       False             139.828932\n",
      "22 2025-10-03 22:00:00         128.802703        True             153.613191\n",
      "23 2025-10-03 23:00:00         474.229847       False             151.718621\n"
     ]
    }
   ],
   "source": [
    "print(df)"
   ]
  },
  {
   "cell_type": "code",
   "execution_count": 22,
   "id": "dfeb0700-1ebe-4540-85e1-eab50dfee165",
   "metadata": {},
   "outputs": [],
   "source": [
    "#análisis de datos"
   ]
  },
  {
   "cell_type": "code",
   "execution_count": null,
   "id": "5f6a2507-2c6d-45c8-95f0-21374a58bce9",
   "metadata": {},
   "outputs": [],
   "source": [
    "#Entre las 12:00 y las 17:00 se puede observar que es donde mayor movimiento se produce."
   ]
  },
  {
   "cell_type": "code",
   "execution_count": 23,
   "id": "ceabce33-5dbf-4a90-9278-fd87aa778ae4",
   "metadata": {},
   "outputs": [],
   "source": [
    "#muestro resumen estadístico con .describe"
   ]
  },
  {
   "cell_type": "code",
   "execution_count": 24,
   "id": "53499792-70d2-41fb-aa0a-63806f0d34cb",
   "metadata": {},
   "outputs": [
    {
     "name": "stdout",
     "output_type": "stream",
     "text": [
      "                      Hora  Luminosidad (lux)  Consumo eléctrico (W)\n",
      "count                   24          24.000000              24.000000\n",
      "mean   2025-10-03 11:30:00         526.360238             270.596147\n",
      "min    2025-10-03 00:00:00          29.943634             139.828932\n",
      "25%    2025-10-03 05:45:00         310.142368             184.763204\n",
      "50%    2025-10-03 11:30:00         472.696911             288.070894\n",
      "75%    2025-10-03 17:15:00         851.492183             324.929535\n",
      "max    2025-10-03 23:00:00         995.070898             475.397976\n",
      "std                    NaN         304.712279              94.494006\n"
     ]
    }
   ],
   "source": [
    "print(df.describe())"
   ]
  },
  {
   "cell_type": "code",
   "execution_count": 25,
   "id": "0ca40d2b-f067-46a7-92d9-dc797414b3a6",
   "metadata": {},
   "outputs": [],
   "source": [
    "#calculo el consumo eléctrico total"
   ]
  },
  {
   "cell_type": "code",
   "execution_count": 26,
   "id": "981056f5-ba1d-4789-bde9-84542f85ba8c",
   "metadata": {},
   "outputs": [],
   "source": [
    "consumo_total = df['Consumo eléctrico (W)'].sum()"
   ]
  },
  {
   "cell_type": "code",
   "execution_count": 27,
   "id": "1a88006f-3fd0-42eb-bf4f-2a16a734829c",
   "metadata": {},
   "outputs": [
    {
     "name": "stdout",
     "output_type": "stream",
     "text": [
      "Consumo eléctrico total del día: 6494.307531398504 W\n"
     ]
    }
   ],
   "source": [
    "print(f\"Consumo eléctrico total del día: {consumo_total} W\")"
   ]
  },
  {
   "cell_type": "code",
   "execution_count": 28,
   "id": "1fcc364e-2dd6-47bf-969d-f1c96c6a4965",
   "metadata": {},
   "outputs": [],
   "source": [
    "#creo y muestro una gráfica de líneas q muestra la evolución del sensor de luminosidad durante el día"
   ]
  },
  {
   "cell_type": "code",
   "execution_count": 29,
   "id": "cb5e7e4f-8164-4f0c-a406-b279feede652",
   "metadata": {},
   "outputs": [
    {
     "data": {
      "text/plain": [
       "[<matplotlib.lines.Line2D at 0x7d3ad38b52d0>]"
      ]
     },
     "execution_count": 29,
     "metadata": {},
     "output_type": "execute_result"
    },
    {
     "data": {
      "image/png": "[encoded data removed]",
      "text/plain": [
       "<Figure size 640x480 with 1 Axes>"
      ]
     },
     "metadata": {},
     "output_type": "display_data"
    }
   ],
   "source": [
    "plt.plot(df['Hora'], df['Luminosidad (lux)'])"
   ]
  },
  {
   "cell_type": "code",
   "execution_count": 30,
   "id": "23b37d90-43ed-4612-8af6-ff46e799907a",
   "metadata": {},
   "outputs": [],
   "source": [
    "#creo y muestro la gráfica de barras que muestra el consumo de cada hora"
   ]
  },
  {
   "cell_type": "code",
   "execution_count": null,
   "id": "1ec369f0-f843-458c-9102-970be8748d4d",
   "metadata": {},
   "outputs": [],
   "source": [
    "#En nuestro caso, que se trata sobre la luminosidad, podemos apreciar que durante los horarios de 12:00 a 4:00 la luminosidad es bastante baja (excepto a las 2:00 que llega a más de 850 lux), llegando hasta 471 lux. Después empieza a subir la luminosidda de manera progresiva, alcanzando  los 900 a las 8 de la mañana. Luego sucede otro pico de bajada hasta las 12 que podemos apreciar su pico de luminosidad, casi llegando a 1000 lux. Después de esto, la luminosidad sigue presente hasta las 2 que baja a 64 lux pero luego vuelve a subir a las 4 hasta los 841 lux. Luego sufren otra bajada hasta las 20:00 que casi llegan a los 900 de luminosidad. Por último, se aprecia una bajada grande de luminosidad desde las 21 hasta las 00:00"
   ]
  },
  {
   "cell_type": "code",
   "execution_count": 31,
   "id": "bb5b01c5-2ac9-418b-9795-fcbe9f9628c4",
   "metadata": {},
   "outputs": [
    {
     "data": {
      "text/plain": [
       "<BarContainer object of 24 artists>"
      ]
     },
     "execution_count": 31,
     "metadata": {},
     "output_type": "execute_result"
    },
    {
     "data": {
      "image/png": "[encoded data removed]",
      "text/plain": [
       "<Figure size 640x480 with 1 Axes>"
      ]
     },
     "metadata": {},
     "output_type": "display_data"
    }
   ],
   "source": [
    "plt.bar(df['Hora'], df['Consumo eléctrico (W)'])"
   ]
  },
  {
   "cell_type": "code",
   "execution_count": null,
   "id": "fcde555e-e0fe-4ff7-92a0-0c5a6fee862c",
   "metadata": {},
   "outputs": [],
   "source": [
    "#En cuanto al consumo eléctrico, podemos apreciar anomalías de gran consumo eléctrico por la madrugada, sobre todo a las 00:00, 01:00, 04:00, 07:00 y 08:00 (a las 08:00 llega a su pico de consumo eléctrico), ya que estas horas suelen ser horas donde las personas están durmiendo, sin hacer actividades domésticas, ni preparando las comidas, por lo que resulta extraño que haya mucho consumo eléctrico. Por otro lado, podemos apreciar una anomalía de poco consumo eléctrico entre las 17:00 y las 22:00, ya que a esas horas es donde más horas activas están las personas en sus casas, ya que o están poniendo las lavadoras, poniendo el lavavajillas, poniendo la calefacción, haciendo las cenas, viendo la televisión, etc por lo que resulta extraño que tengan tan poco consumo eléctrico, sobre todo a las 21:00 que es donde los niños suelen ver la televisión y los padres preparan la cena."
   ]
  }
 ],
 "metadata": {
  "kernelspec": {
   "display_name": "Python [conda env:base] *",
   "language": "python",
   "name": "conda-base-py"
  },
  "language_info": {
   "codemirror_mode": {
    "name": "ipython",
    "version": 3
   },
   "file_extension": ".py",
   "mimetype": "text/x-python",
   "name": "python",
   "nbconvert_exporter": "python",
   "pygments_lexer": "ipython3",
   "version": "3.13.5"
  }
 },
 "nbformat": 4,
 "nbformat_minor": 5
}
