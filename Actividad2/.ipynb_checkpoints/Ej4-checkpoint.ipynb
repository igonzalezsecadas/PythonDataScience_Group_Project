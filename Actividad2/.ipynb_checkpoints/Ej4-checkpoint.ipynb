{
 "cells": [
  {
   "cell_type": "code",
   "execution_count": 1,
   "id": "98b4adb9-e88f-4b5c-905d-79ae50cd7e54",
   "metadata": {},
   "outputs": [],
   "source": [
    "#importo librerías"
   ]
  },
  {
   "cell_type": "code",
   "execution_count": 2,
   "id": "25ae1665-4f6a-4801-8ef2-e8ef4afb0d8e",
   "metadata": {},
   "outputs": [],
   "source": [
    "import numpy as np"
   ]
  },
  {
   "cell_type": "code",
   "execution_count": 3,
   "id": "73a029f2-bcdc-4bcb-aa4c-1154ed348382",
   "metadata": {},
   "outputs": [],
   "source": [
    "import pandas as pd"
   ]
  },
  {
   "cell_type": "code",
   "execution_count": 4,
   "id": "bae63e7d-6fa4-40a2-bbb9-d907fbc5ae9c",
   "metadata": {},
   "outputs": [],
   "source": [
    "import matplotlib.pyplot as plt"
   ]
  },
  {
   "cell_type": "code",
   "execution_count": 5,
   "id": "1f752342-b945-46d0-a729-1f86b3f4ba5a",
   "metadata": {},
   "outputs": [],
   "source": [
    "#creo rango de horas con la función date_range q se encarga de generar h auromáticas con la frecuencia que indique, en este casp h"
   ]
  },
  {
   "cell_type": "code",
   "execution_count": 6,
   "id": "1633bc42-2ae2-414e-a43d-eff83a4278d5",
   "metadata": {},
   "outputs": [
    {
     "name": "stderr",
     "output_type": "stream",
     "text": [
      "C:\\Users\\Angel\\AppData\\Local\\Temp\\ipykernel_8980\\3498268368.py:1: FutureWarning: 'H' is deprecated and will be removed in a future version, please use 'h' instead.\n",
      "  horas = pd.date_range(start='00:00', end='23:00', freq='H')\n"
     ]
    }
   ],
   "source": [
    "horas = pd.date_range(start='00:00', end='23:00', freq='H')"
   ]
  },
  {
   "cell_type": "code",
   "execution_count": 7,
   "id": "a5b4db2d-ee39-4542-af8b-ba2e025670a3",
   "metadata": {},
   "outputs": [],
   "source": [
    "#simular datos"
   ]
  },
  {
   "cell_type": "code",
   "execution_count": 8,
   "id": "428a5903-deb1-48cf-882e-ee196b078ff6",
   "metadata": {},
   "outputs": [],
   "source": [
    "luminosidad = np.random.uniform(0, 1000, size=24) #con numpy genero 24 valores aleatorios entre 0 y 1000"
   ]
  },
  {
   "cell_type": "code",
   "execution_count": 9,
   "id": "9ef01cbc-191c-4663-b43a-ae1b2786c017",
   "metadata": {},
   "outputs": [],
   "source": [
    "movimiento = np.random.choice([True, False], size=24)  #con numpy hago que escoga aleatoriamente el valor del booleano q determina si hay movimiento"
   ]
  },
  {
   "cell_type": "code",
   "execution_count": 10,
   "id": "df2a927a-475d-4df1-839e-bddd007837f2",
   "metadata": {},
   "outputs": [],
   "source": [
    "consumo = np.random.uniform(100, 500, size=24)  #con numpy genero 24 valores aleatorios q determinan el consumo"
   ]
  },
  {
   "cell_type": "code",
   "execution_count": 11,
   "id": "233e91ca-1b7f-4ef9-9546-c262f10d3ac7",
   "metadata": {},
   "outputs": [],
   "source": [
    "#creo el dataframe"
   ]
  },
  {
   "cell_type": "code",
   "execution_count": 12,
   "id": "9fc7eaa9-2aa1-46ef-b920-724e09d82117",
   "metadata": {},
   "outputs": [],
   "source": [
    "df = pd.DataFrame({\n",
    "    'Hora': horas,\n",
    "    'Luminosidad (lux)': luminosidad,\n",
    "    'Movimiento': movimiento,\n",
    "    'Consumo eléctrico (W)': consumo\n",
    "})"
   ]
  },
  {
   "cell_type": "code",
   "execution_count": 13,
   "id": "4ff09ba2-2d33-4d26-ac8a-43513fbf2020",
   "metadata": {},
   "outputs": [
    {
     "name": "stdout",
     "output_type": "stream",
     "text": [
      "                  Hora  Luminosidad (lux)  Movimiento  Consumo eléctrico (W)\n",
      "0  2025-10-09 00:00:00         387.901804       False             138.013879\n",
      "1  2025-10-09 01:00:00         773.187717        True             459.367016\n",
      "2  2025-10-09 02:00:00         328.680350        True             323.087854\n",
      "3  2025-10-09 03:00:00         876.971514        True             284.267044\n",
      "4  2025-10-09 04:00:00          75.361991        True             308.504080\n",
      "5  2025-10-09 05:00:00         955.045938       False             246.010367\n",
      "6  2025-10-09 06:00:00         354.400140       False             260.119263\n",
      "7  2025-10-09 07:00:00         595.646956       False             244.413158\n",
      "8  2025-10-09 08:00:00         381.953951        True             186.345098\n",
      "9  2025-10-09 09:00:00         286.687050        True             427.829468\n",
      "10 2025-10-09 10:00:00         953.668533        True             196.895131\n",
      "11 2025-10-09 11:00:00         113.711014       False             251.452084\n",
      "12 2025-10-09 12:00:00         320.482180       False             176.493863\n",
      "13 2025-10-09 13:00:00         907.419861       False             125.976141\n",
      "14 2025-10-09 14:00:00         425.492927        True             154.989660\n",
      "15 2025-10-09 15:00:00         941.905857       False             181.382164\n",
      "16 2025-10-09 16:00:00         725.828851       False             323.937720\n",
      "17 2025-10-09 17:00:00         465.729617       False             140.970744\n",
      "18 2025-10-09 18:00:00         545.073008       False             306.650423\n",
      "19 2025-10-09 19:00:00          11.508517       False             369.083818\n",
      "20 2025-10-09 20:00:00         720.293216        True             381.789438\n",
      "21 2025-10-09 21:00:00          98.470087        True             397.419434\n",
      "22 2025-10-09 22:00:00           5.838966        True             210.217285\n",
      "23 2025-10-09 23:00:00         280.505793        True             243.108706\n"
     ]
    }
   ],
   "source": [
    "print(df)"
   ]
  },
  {
   "cell_type": "code",
   "execution_count": 14,
   "id": "dfeb0700-1ebe-4540-85e1-eab50dfee165",
   "metadata": {},
   "outputs": [],
   "source": [
    "#análisis de datos"
   ]
  },
  {
   "cell_type": "code",
   "execution_count": 15,
   "id": "ceabce33-5dbf-4a90-9278-fd87aa778ae4",
   "metadata": {},
   "outputs": [],
   "source": [
    "#muestro resumen estadístico con .describe"
   ]
  },
  {
   "cell_type": "code",
   "execution_count": 16,
   "id": "53499792-70d2-41fb-aa0a-63806f0d34cb",
   "metadata": {},
   "outputs": [
    {
     "name": "stdout",
     "output_type": "stream",
     "text": [
      "                      Hora  Luminosidad (lux)  Consumo eléctrico (W)\n",
      "count                   24          24.000000              24.000000\n",
      "mean   2025-10-09 11:30:00         480.490243             264.096827\n",
      "min    2025-10-09 00:00:00           5.838966             125.976141\n",
      "25%    2025-10-09 05:45:00         285.141736             185.104365\n",
      "50%    2025-10-09 11:30:00         406.697366             248.731225\n",
      "75%    2025-10-09 17:15:00         737.668568             323.300320\n",
      "max    2025-10-09 23:00:00         955.045938             459.367016\n",
      "std                    NaN         314.554922              95.596048\n"
     ]
    }
   ],
   "source": [
    "print(df.describe())"
   ]
  },
  {
   "cell_type": "code",
   "execution_count": 17,
   "id": "0ca40d2b-f067-46a7-92d9-dc797414b3a6",
   "metadata": {},
   "outputs": [],
   "source": [
    "#calculo el consumo eléctrico total"
   ]
  },
  {
   "cell_type": "code",
   "execution_count": 18,
   "id": "981056f5-ba1d-4789-bde9-84542f85ba8c",
   "metadata": {},
   "outputs": [],
   "source": [
    "consumo_total = df['Consumo eléctrico (W)'].sum()"
   ]
  },
  {
   "cell_type": "code",
   "execution_count": 19,
   "id": "1a88006f-3fd0-42eb-bf4f-2a16a734829c",
   "metadata": {},
   "outputs": [
    {
     "name": "stdout",
     "output_type": "stream",
     "text": [
      "Consumo eléctrico total del día: 6338.323837721554 W\n"
     ]
    }
   ],
   "source": [
    "print(f\"Consumo eléctrico total del día: {consumo_total} W\")"
   ]
  },
  {
   "cell_type": "code",
   "execution_count": 20,
   "id": "1fcc364e-2dd6-47bf-969d-f1c96c6a4965",
   "metadata": {},
   "outputs": [],
   "source": [
    "#creo y muestro una gráfica de líneas q muestra la evolución del sensor de luminosidad durante el día"
   ]
  },
  {
   "cell_type": "code",
   "execution_count": 21,
   "id": "cb5e7e4f-8164-4f0c-a406-b279feede652",
   "metadata": {},
   "outputs": [
    {
     "data": {
      "text/plain": [
       "[<matplotlib.lines.Line2D at 0x27851986ad0>]"
      ]
     },
     "execution_count": 21,
     "metadata": {},
     "output_type": "execute_result"
    },
    {
     "data": {
      "image/png": "[encoded data removed]",
      "text/plain": [
       "<Figure size 640x480 with 1 Axes>"
      ]
     },
     "metadata": {},
     "output_type": "display_data"
    }
   ],
   "source": [
    "plt.plot(df['Hora'], df['Luminosidad (lux)'])"
   ]
  },
  {
   "cell_type": "code",
   "execution_count": 22,
   "id": "23b37d90-43ed-4612-8af6-ff46e799907a",
   "metadata": {},
   "outputs": [],
   "source": [
    "#creo y muestro la gráfica de barras que muestra el consumo de cada hora"
   ]
  },
  {
   "cell_type": "code",
   "execution_count": 23,
   "id": "bb5b01c5-2ac9-418b-9795-fcbe9f9628c4",
   "metadata": {},
   "outputs": [
    {
     "data": {
      "text/plain": [
       "<BarContainer object of 24 artists>"
      ]
     },
     "execution_count": 23,
     "metadata": {},
     "output_type": "execute_result"
    },
    {
     "data": {
      "image/png": "[encoded data removed]",
      "text/plain": [
       "<Figure size 640x480 with 1 Axes>"
      ]
     },
     "metadata": {},
     "output_type": "display_data"
    }
   ],
   "source": [
    "plt.bar(df['Hora'], df['Consumo eléctrico (W)'])"
   ]
  }
 ],
 "metadata": {
  "kernelspec": {
   "display_name": "Python [conda env:base] *",
   "language": "python",
   "name": "conda-base-py"
  },
  "language_info": {
   "codemirror_mode": {
    "name": "ipython",
    "version": 3
   },
   "file_extension": ".py",
   "mimetype": "text/x-python",
   "name": "python",
   "nbconvert_exporter": "python",
   "pygments_lexer": "ipython3",
   "version": "3.13.5"
  }
 },
 "nbformat": 4,
 "nbformat_minor": 5
}
