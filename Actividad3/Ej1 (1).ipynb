{
 "cells": [
  {
   "cell_type": "code",
   "execution_count": 2,
   "id": "ed46cbc6-0d2e-4030-b66a-6f1868c8064a",
   "metadata": {},
   "outputs": [],
   "source": [
    "import pandas as pd"
   ]
  },
  {
   "cell_type": "code",
   "execution_count": 3,
   "id": "37c4bfc2-f070-4c39-b4a4-9b7ebf48dd20",
   "metadata": {},
   "outputs": [],
   "source": [
    "#Para importar datos en csv, tienes que mirar su codificación. Si no está en utf-8 deberás de poner encoding para que se pueda leer o cambiarlo desde un bloc de notas."
   ]
  },
  {
   "cell_type": "code",
   "execution_count": 6,
   "id": "22778607-c926-4b2b-9650-47a396f791b1",
   "metadata": {},
   "outputs": [],
   "source": [
    "df = pd.read_excel(r\"C:\\Users\\ALUMNOS\\Desktop\\Primera hoja.xlsx\")\n"
   ]
  },
  {
   "cell_type": "code",
   "execution_count": 7,
   "id": "005f0ff0-cf2e-4796-bab3-e815d1f85aab",
   "metadata": {},
   "outputs": [
    {
     "name": "stdout",
     "output_type": "stream",
     "text": [
      "     Nombre  Cantidad  ES_FBK   AÑO\n",
      "0  Facebook      2449    True  2006\n",
      "1   Twitter       339   False  2006\n"
     ]
    }
   ],
   "source": [
    "print (df)"
   ]
  },
  {
   "cell_type": "code",
   "execution_count": 30,
   "id": "c03acd0c-08a9-4309-bed4-f1d563a89787",
   "metadata": {},
   "outputs": [],
   "source": [
    "df1 = pd.read_excel(r\"C:\\Users\\ALUMNOS\\Documents\\GitHub\\PythonDataScience_Group_Project\\Actividad3\\Segunda hoja.xlsx\")\n"
   ]
  },
  {
   "cell_type": "code",
   "execution_count": 31,
   "id": "7e5187d5-b94a-4873-9632-83a9b2801bd1",
   "metadata": {},
   "outputs": [
    {
     "name": "stdout",
     "output_type": "stream",
     "text": [
      "Empty DataFrame\n",
      "Columns: [Esto es una prueba]\n",
      "Index: []\n"
     ]
    }
   ],
   "source": [
    "print (df1)"
   ]
  },
  {
   "cell_type": "code",
   "execution_count": null,
   "id": "fddcd849-50c2-4cd5-8ea8-9d5f463b8d00",
   "metadata": {},
   "outputs": [],
   "source": [
    "#Siempre saldrá la primera hoja por defecto (al menos que la primera hoja esté vacia). Para que me salgan otras hojas tendré que seleccionar dicha hoja con sheet_name"
   ]
  },
  {
   "cell_type": "code",
   "execution_count": 32,
   "id": "3d756cd9-1893-423d-b5db-81b22c017e81",
   "metadata": {},
   "outputs": [],
   "source": [
    "df1a= df1 = pd.read_excel(r\"C:\\Users\\ALUMNOS\\Documents\\GitHub\\PythonDataScience_Group_Project\\Actividad3\\Segunda hoja.xlsx\", sheet_name = \"Hoja2\")\n"
   ]
  },
  {
   "cell_type": "code",
   "execution_count": 34,
   "id": "35de5c1c-c205-472b-bb5d-edf0c164ec4a",
   "metadata": {},
   "outputs": [
    {
     "name": "stdout",
     "output_type": "stream",
     "text": [
      "     Nombre  Cantidad  ES_FBK   AÑO\n",
      "0  Facebook      2449    True  2006\n",
      "1   Twitter       339   False  2006\n"
     ]
    }
   ],
   "source": [
    "print (df1a)"
   ]
  },
  {
   "cell_type": "code",
   "execution_count": 10,
   "id": "6bdee03c-88f5-44ec-9017-a3ecc1c98e3a",
   "metadata": {},
   "outputs": [],
   "source": [
    "df2 = pd.read_csv(r\"C:\\Users\\ALUMNOS\\Documents\\GitHub\\PythonDataScience_Group_Project\\Actividad3\\Sin columna.csv\")\n"
   ]
  },
  {
   "cell_type": "code",
   "execution_count": 13,
   "id": "0556ba2d-fd48-4d4b-a128-16df15e083dc",
   "metadata": {},
   "outputs": [
    {
     "name": "stdout",
     "output_type": "stream",
     "text": [
      "  Facebook;2449;TRUE;2006\n",
      "0  Twitter;339;FALSE;2006\n"
     ]
    }
   ],
   "source": [
    "print (df2)"
   ]
  },
  {
   "cell_type": "code",
   "execution_count": null,
   "id": "f55f7c52-a101-4223-b336-cd3fce8c5403",
   "metadata": {},
   "outputs": [],
   "source": []
  }
 ],
 "metadata": {
  "kernelspec": {
   "display_name": "Python [conda env:base] *",
   "language": "python",
   "name": "conda-base-py"
  },
  "language_info": {
   "codemirror_mode": {
    "name": "ipython",
    "version": 3
   },
   "file_extension": ".py",
   "mimetype": "text/x-python",
   "name": "python",
   "nbconvert_exporter": "python",
   "pygments_lexer": "ipython3",
   "version": "3.13.5"
  }
 },
 "nbformat": 4,
 "nbformat_minor": 5
}
